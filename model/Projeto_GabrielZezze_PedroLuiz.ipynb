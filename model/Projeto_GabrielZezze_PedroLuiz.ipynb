{
 "cells": [
  {
   "cell_type": "code",
   "execution_count": 71,
   "id": "6237cbb4",
   "metadata": {},
   "outputs": [],
   "source": [
    "import pandas as pd\n",
    "import numpy as np\n",
    "import ujson as json\n",
    "import matplotlib.pyplot as plt\n",
    "import os\n",
    "from sklearn.model_selection import train_test_split"
   ]
  },
  {
   "cell_type": "markdown",
   "id": "0d20cafe",
   "metadata": {},
   "source": [
    "### Get all .ndjson files from folder"
   ]
  },
  {
   "cell_type": "code",
   "execution_count": 75,
   "id": "5ada048e",
   "metadata": {},
   "outputs": [
    {
     "name": "stdout",
     "output_type": "stream",
     "text": [
      "['./data/.DS_Store', './data/full_numpy_bitmap_ambulance.npy', './data/full_numpy_bitmap_apple.npy', './data/full_numpy_bitmap_airplane.npy']\n"
     ]
    }
   ],
   "source": [
    "data_files = os.listdir('./data/')\n",
    "data_files = [f'./data/{file}' for file in data_files]\n",
    "print(data_files)"
   ]
  },
  {
   "cell_type": "code",
   "execution_count": 78,
   "id": "27f56958",
   "metadata": {},
   "outputs": [],
   "source": [
    "# records = [map(json.loads, open(file)) for file in data_files]\n",
    "\n",
    "records = {'category': [], 'drawing': []}\n",
    "categories = []\n",
    "for file in data_files:\n",
    "    if file == './data/.DS_Store':\n",
    "        continue\n",
    "    category = file.split('/')[-1].split('.')[0]\n",
    "    categories.append(category)\n",
    "    data = np.load(file)[:5000]\n",
    "    for d in data:\n",
    "        records['category'].append(category)\n",
    "        records['drawing'].append(d)\n",
    "\n",
    "df = pd.DataFrame(data=records)\n",
    "# One hot encode\n",
    "one_hot = pd.get_dummies(df['category'])\n",
    "# df = df.drop('category',axis = 1)\n",
    "df['category_code'] = one_hot[categories].values.tolist()"
   ]
  },
  {
   "cell_type": "code",
   "execution_count": 79,
   "id": "9c64ccfb",
   "metadata": {},
   "outputs": [
    {
     "data": {
      "text/html": [
       "<div>\n",
       "<style scoped>\n",
       "    .dataframe tbody tr th:only-of-type {\n",
       "        vertical-align: middle;\n",
       "    }\n",
       "\n",
       "    .dataframe tbody tr th {\n",
       "        vertical-align: top;\n",
       "    }\n",
       "\n",
       "    .dataframe thead th {\n",
       "        text-align: right;\n",
       "    }\n",
       "</style>\n",
       "<table border=\"1\" class=\"dataframe\">\n",
       "  <thead>\n",
       "    <tr style=\"text-align: right;\">\n",
       "      <th></th>\n",
       "      <th>category</th>\n",
       "      <th>drawing</th>\n",
       "      <th>category_code</th>\n",
       "    </tr>\n",
       "  </thead>\n",
       "  <tbody>\n",
       "    <tr>\n",
       "      <th>0</th>\n",
       "      <td>full_numpy_bitmap_ambulance</td>\n",
       "      <td>[0, 0, 0, 0, 0, 0, 0, 0, 0, 0, 0, 0, 0, 0, 0, ...</td>\n",
       "      <td>[1, 0, 0]</td>\n",
       "    </tr>\n",
       "    <tr>\n",
       "      <th>1</th>\n",
       "      <td>full_numpy_bitmap_ambulance</td>\n",
       "      <td>[0, 0, 0, 0, 0, 0, 0, 0, 0, 0, 0, 0, 0, 0, 0, ...</td>\n",
       "      <td>[1, 0, 0]</td>\n",
       "    </tr>\n",
       "    <tr>\n",
       "      <th>2</th>\n",
       "      <td>full_numpy_bitmap_ambulance</td>\n",
       "      <td>[0, 0, 0, 0, 0, 0, 0, 0, 0, 0, 0, 0, 0, 0, 0, ...</td>\n",
       "      <td>[1, 0, 0]</td>\n",
       "    </tr>\n",
       "    <tr>\n",
       "      <th>3</th>\n",
       "      <td>full_numpy_bitmap_ambulance</td>\n",
       "      <td>[0, 0, 0, 0, 0, 0, 0, 0, 0, 0, 0, 0, 0, 0, 0, ...</td>\n",
       "      <td>[1, 0, 0]</td>\n",
       "    </tr>\n",
       "    <tr>\n",
       "      <th>4</th>\n",
       "      <td>full_numpy_bitmap_ambulance</td>\n",
       "      <td>[0, 0, 0, 0, 0, 0, 0, 0, 0, 0, 0, 0, 0, 0, 0, ...</td>\n",
       "      <td>[1, 0, 0]</td>\n",
       "    </tr>\n",
       "    <tr>\n",
       "      <th>...</th>\n",
       "      <td>...</td>\n",
       "      <td>...</td>\n",
       "      <td>...</td>\n",
       "    </tr>\n",
       "    <tr>\n",
       "      <th>14995</th>\n",
       "      <td>full_numpy_bitmap_airplane</td>\n",
       "      <td>[0, 0, 0, 0, 0, 0, 0, 0, 0, 0, 0, 0, 0, 0, 0, ...</td>\n",
       "      <td>[0, 0, 1]</td>\n",
       "    </tr>\n",
       "    <tr>\n",
       "      <th>14996</th>\n",
       "      <td>full_numpy_bitmap_airplane</td>\n",
       "      <td>[0, 0, 0, 0, 0, 0, 0, 0, 0, 0, 0, 0, 0, 0, 0, ...</td>\n",
       "      <td>[0, 0, 1]</td>\n",
       "    </tr>\n",
       "    <tr>\n",
       "      <th>14997</th>\n",
       "      <td>full_numpy_bitmap_airplane</td>\n",
       "      <td>[0, 0, 0, 0, 0, 0, 0, 0, 0, 0, 0, 0, 0, 0, 0, ...</td>\n",
       "      <td>[0, 0, 1]</td>\n",
       "    </tr>\n",
       "    <tr>\n",
       "      <th>14998</th>\n",
       "      <td>full_numpy_bitmap_airplane</td>\n",
       "      <td>[0, 0, 0, 0, 0, 0, 0, 0, 0, 0, 0, 0, 0, 0, 0, ...</td>\n",
       "      <td>[0, 0, 1]</td>\n",
       "    </tr>\n",
       "    <tr>\n",
       "      <th>14999</th>\n",
       "      <td>full_numpy_bitmap_airplane</td>\n",
       "      <td>[0, 0, 0, 0, 0, 0, 0, 0, 0, 0, 0, 0, 0, 0, 0, ...</td>\n",
       "      <td>[0, 0, 1]</td>\n",
       "    </tr>\n",
       "  </tbody>\n",
       "</table>\n",
       "<p>15000 rows × 3 columns</p>\n",
       "</div>"
      ],
      "text/plain": [
       "                          category  \\\n",
       "0      full_numpy_bitmap_ambulance   \n",
       "1      full_numpy_bitmap_ambulance   \n",
       "2      full_numpy_bitmap_ambulance   \n",
       "3      full_numpy_bitmap_ambulance   \n",
       "4      full_numpy_bitmap_ambulance   \n",
       "...                            ...   \n",
       "14995   full_numpy_bitmap_airplane   \n",
       "14996   full_numpy_bitmap_airplane   \n",
       "14997   full_numpy_bitmap_airplane   \n",
       "14998   full_numpy_bitmap_airplane   \n",
       "14999   full_numpy_bitmap_airplane   \n",
       "\n",
       "                                                 drawing category_code  \n",
       "0      [0, 0, 0, 0, 0, 0, 0, 0, 0, 0, 0, 0, 0, 0, 0, ...     [1, 0, 0]  \n",
       "1      [0, 0, 0, 0, 0, 0, 0, 0, 0, 0, 0, 0, 0, 0, 0, ...     [1, 0, 0]  \n",
       "2      [0, 0, 0, 0, 0, 0, 0, 0, 0, 0, 0, 0, 0, 0, 0, ...     [1, 0, 0]  \n",
       "3      [0, 0, 0, 0, 0, 0, 0, 0, 0, 0, 0, 0, 0, 0, 0, ...     [1, 0, 0]  \n",
       "4      [0, 0, 0, 0, 0, 0, 0, 0, 0, 0, 0, 0, 0, 0, 0, ...     [1, 0, 0]  \n",
       "...                                                  ...           ...  \n",
       "14995  [0, 0, 0, 0, 0, 0, 0, 0, 0, 0, 0, 0, 0, 0, 0, ...     [0, 0, 1]  \n",
       "14996  [0, 0, 0, 0, 0, 0, 0, 0, 0, 0, 0, 0, 0, 0, 0, ...     [0, 0, 1]  \n",
       "14997  [0, 0, 0, 0, 0, 0, 0, 0, 0, 0, 0, 0, 0, 0, 0, ...     [0, 0, 1]  \n",
       "14998  [0, 0, 0, 0, 0, 0, 0, 0, 0, 0, 0, 0, 0, 0, 0, ...     [0, 0, 1]  \n",
       "14999  [0, 0, 0, 0, 0, 0, 0, 0, 0, 0, 0, 0, 0, 0, 0, ...     [0, 0, 1]  \n",
       "\n",
       "[15000 rows x 3 columns]"
      ]
     },
     "execution_count": 79,
     "metadata": {},
     "output_type": "execute_result"
    }
   ],
   "source": [
    "df"
   ]
  },
  {
   "cell_type": "code",
   "execution_count": 81,
   "id": "b64f92e6",
   "metadata": {},
   "outputs": [],
   "source": [
    "from sklearn.model_selection import train_test_split\n",
    "\n",
    "X_train, X_test, y_train, y_test = train_test_split(df['drawing'], df['category'], test_size=0.20, random_state=42)"
   ]
  },
  {
   "cell_type": "markdown",
   "id": "75ac7020",
   "metadata": {},
   "source": [
    "### Creating a basic random forrest classifier for baseline"
   ]
  },
  {
   "cell_type": "code",
   "execution_count": 46,
   "id": "c3aadae3",
   "metadata": {
    "scrolled": false
   },
   "outputs": [
    {
     "name": "stdout",
     "output_type": "stream",
     "text": [
      "225    [[114.0, 22.0, 0.0], [100.0, 78.0, 0.0], [95.0...\n",
      "140    [[109.0, 48.0, 0.0], [255.0, 43.0, 0.0], [231....\n",
      "18     [[22.0, 60.0, 0.0], [76.0, 54.0, 0.0], [190.0,...\n",
      "181    [[0.0, 145.0, 0.0], [2.0, 97.0, 0.0], [46.0, 9...\n",
      "96     [[118.0, 87.0, 0.0], [136.0, 65.0, 0.0], [152....\n",
      "                             ...                        \n",
      "188    [[0.0, 126.0, 0.0], [7.0, 57.0, 0.0], [19.0, 5...\n",
      "71     [[95.0, 52.0, 0.0], [67.0, 53.0, 0.0], [47.0, ...\n",
      "106    [[63.0, 140.0, 0.0], [63.0, 45.0, 0.0], [60.0,...\n",
      "270    [[194.0, 62.0, 0.0], [127.0, 53.0, 0.0], [67.0...\n",
      "102    [[27.0, 21.0, 0.0], [6.0, 91.0, 0.0], [0.0, 13...\n",
      "Name: drawing, Length: 195, dtype: object\n"
     ]
    }
   ],
   "source": [
    "# from sklearn.ensemble import RandomForestClassifier\n",
    "# # random_forrest_clf = RandomForestClassifier()\n",
    "# # random_forrest_clf.fit(X_train, y_train)\n"
   ]
  }
 ],
 "metadata": {
  "kernelspec": {
   "display_name": "Python 3",
   "language": "python",
   "name": "python3"
  },
  "language_info": {
   "codemirror_mode": {
    "name": "ipython",
    "version": 3
   },
   "file_extension": ".py",
   "mimetype": "text/x-python",
   "name": "python",
   "nbconvert_exporter": "python",
   "pygments_lexer": "ipython3",
   "version": "3.8.10"
  }
 },
 "nbformat": 4,
 "nbformat_minor": 5
}
